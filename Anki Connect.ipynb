{
 "cells": [
  {
   "cell_type": "markdown",
   "id": "e81e889e-0f62-4f7c-b06b-ff4b926dc9e9",
   "metadata": {},
   "source": [
    "# Using Anki Connect #1"
   ]
  },
  {
   "cell_type": "code",
   "execution_count": 1,
   "id": "3b8fadbc-086e-44b4-8eff-b3734ddf043c",
   "metadata": {},
   "outputs": [],
   "source": [
    "import json\n",
    "import urllib.request\n",
    "from pypinyin import pinyin\n",
    "\n",
    "def request(action, **params):\n",
    "    return {'action': action, 'params': params, 'version': 6}\n",
    "\n",
    "def invoke(action, **params):\n",
    "    requestJson = json.dumps(request(action, **params)).encode('utf-8')\n",
    "    response = json.load(urllib.request.urlopen(urllib.request.Request('http://127.0.0.1:8765', requestJson)))\n",
    "    if len(response) != 2:\n",
    "        raise Exception('response has an unexpected number of fields')\n",
    "    if 'error' not in response:\n",
    "        raise Exception('response is missing required error field')\n",
    "    if 'result' not in response:\n",
    "        raise Exception('response is missing required result field')\n",
    "    if response['error'] is not None:\n",
    "        raise Exception(response['error'])\n",
    "    return response['result']\n"
   ]
  },
  {
   "cell_type": "code",
   "execution_count": 2,
   "id": "859ddd91-abb6-4cf7-a61f-944f5e0e1062",
   "metadata": {},
   "outputs": [
    {
     "name": "stdout",
     "output_type": "stream",
     "text": [
      "got list of decks: ['數字智慧工作-術語', '預設']\n"
     ]
    }
   ],
   "source": [
    "#test connection\n",
    "result = invoke('deckNames')\n",
    "print('got list of decks: {}'.format(result))"
   ]
  },
  {
   "cell_type": "markdown",
   "id": "57e4b836-7ebf-452a-848e-c2781e5cfd6f",
   "metadata": {},
   "source": [
    "### Create new notes"
   ]
  },
  {
   "cell_type": "code",
   "execution_count": 19,
   "id": "d030c7ff-c809-4e5a-a6a0-06393992524b",
   "metadata": {},
   "outputs": [
    {
     "name": "stdin",
     "output_type": "stream",
     "text": [
      "Enter front text: 建模\n",
      "Enter back text: modeling\n",
      "Added, enter '0' if done \n",
      "Enter front text: 案例演練\n",
      "Enter back text: case walkthrough\n",
      "Added, enter '0' if done \n",
      "Enter front text: 製圖\n",
      "Enter back text: cartography\n",
      "Added, enter '0' if done \n",
      "Enter front text: 網格\n",
      "Enter back text: grids (revit)\n",
      "Added, enter '0' if done 0\n"
     ]
    }
   ],
   "source": [
    "#add cards\n",
    "def addNote(deck):\n",
    "    front = input('Enter front text:')\n",
    "    back = input('Enter back text:')\n",
    "    pinyn = ''.join([i[0] for i in pinyin(front)])\n",
    "    n = {\n",
    "        \"deckName\": deck,\n",
    "        \"modelName\": \"basic\",  # Change this to match your note type (model)\n",
    "        \"fields\": {\n",
    "            \"front\": front,\n",
    "            \"back\": pinyn + ' ' + back,\n",
    "        },\n",
    "        \"options\": {\n",
    "            \"allowDuplicate\": False,\n",
    "        },\n",
    "        \"tags\": [],\n",
    "    }\n",
    "    invoke(\"addNote\", note = n)\n",
    "\n",
    "deck_name = '數字智慧工作-術語'\n",
    "\n",
    "cond = True\n",
    "while cond:\n",
    "    addNote(deck_name)\n",
    "    bre = input(\"Added, enter '0' if done\")\n",
    "    if bre == '0':\n",
    "        break"
   ]
  },
  {
   "cell_type": "code",
   "execution_count": null,
   "id": "1184f316-e53e-4a1b-aa02-2b6347fe7055",
   "metadata": {},
   "outputs": [],
   "source": []
  }
 ],
 "metadata": {
  "kernelspec": {
   "display_name": "Python 3 (ipykernel)",
   "language": "python",
   "name": "python3"
  },
  "language_info": {
   "codemirror_mode": {
    "name": "ipython",
    "version": 3
   },
   "file_extension": ".py",
   "mimetype": "text/x-python",
   "name": "python",
   "nbconvert_exporter": "python",
   "pygments_lexer": "ipython3",
   "version": "3.12.1"
  }
 },
 "nbformat": 4,
 "nbformat_minor": 5
}
